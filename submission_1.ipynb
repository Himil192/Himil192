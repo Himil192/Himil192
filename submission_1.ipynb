{
  "nbformat": 4,
  "nbformat_minor": 0,
  "metadata": {
    "colab": {
      "provenance": [],
      "authorship_tag": "ABX9TyNccRi1i8RpL/mAv5xJdrWH",
      "include_colab_link": true
    },
    "kernelspec": {
      "name": "python3",
      "display_name": "Python 3"
    },
    "language_info": {
      "name": "python"
    }
  },
  "cells": [
    {
      "cell_type": "markdown",
      "metadata": {
        "id": "view-in-github",
        "colab_type": "text"
      },
      "source": [
        "<a href=\"https://colab.research.google.com/github/Himil192/Himil192/blob/main/submission_1.ipynb\" target=\"_parent\"><img src=\"https://colab.research.google.com/assets/colab-badge.svg\" alt=\"Open In Colab\"/></a>"
      ]
    },
    {
      "cell_type": "code",
      "execution_count": null,
      "metadata": {
        "id": "U1cZNf9Zm8n-"
      },
      "outputs": [],
      "source": [
        "import pandas as pd"
      ]
    },
    {
      "cell_type": "code",
      "source": [
        "df = pd.read_csv(\"/content/ML_study_jam.csv\")"
      ],
      "metadata": {
        "id": "789Zl1F8m9Ti"
      },
      "execution_count": 41,
      "outputs": []
    },
    {
      "cell_type": "code",
      "source": [
        "print(df)"
      ],
      "metadata": {
        "colab": {
          "base_uri": "https://localhost:8080/"
        },
        "id": "uRXp68B2nbDk",
        "outputId": "377b6df1-8509-43e1-f2ab-5ce29528f290"
      },
      "execution_count": 42,
      "outputs": [
        {
          "output_type": "stream",
          "name": "stdout",
          "text": [
            "     Store ID   Store_Area  Items_Available  Daily_Customer_Count  Store_Sales\n",
            "0          1.0      1659.0           1961.0                 530.0      66490.0\n",
            "1          2.0      1461.0           1752.0                 210.0      39820.0\n",
            "2          3.0      1340.0           1609.0                 720.0      54010.0\n",
            "3          4.0      1451.0           1748.0                 620.0      53730.0\n",
            "4          5.0      1770.0           2111.0                 450.0      46620.0\n",
            "..         ...         ...              ...                   ...          ...\n",
            "585      586.0      1227.0           1476.0                 720.0      56260.0\n",
            "586      587.0      1609.0           1930.0                 740.0      76470.0\n",
            "587      588.0      1553.0           1831.0                 740.0      35680.0\n",
            "588      589.0      1814.0           2174.0                 770.0      90070.0\n",
            "589      590.0      1240.0           1493.0                 590.0      33120.0\n",
            "\n",
            "[590 rows x 5 columns]\n"
          ]
        }
      ]
    },
    {
      "cell_type": "code",
      "source": [
        "#b)\n",
        "shape=df.shape\n",
        "print(\"Shape of data:\",shape)"
      ],
      "metadata": {
        "id": "jDm4AByrnoAN",
        "colab": {
          "base_uri": "https://localhost:8080/"
        },
        "outputId": "bf934c99-7fd4-47a9-fa7d-bc6cf4c22584"
      },
      "execution_count": 43,
      "outputs": [
        {
          "output_type": "stream",
          "name": "stdout",
          "text": [
            "Shape of data: (590, 5)\n"
          ]
        }
      ]
    },
    {
      "cell_type": "code",
      "source": [
        "#num of column in data\n",
        "\n",
        "num_col=len(df.columns)\n",
        "print(\"Num of columns:\",num_col)"
      ],
      "metadata": {
        "colab": {
          "base_uri": "https://localhost:8080/"
        },
        "id": "1CEw6M2Zyfq-",
        "outputId": "ee3d64e6-98db-4dd4-ed17-e727e995b749"
      },
      "execution_count": 44,
      "outputs": [
        {
          "output_type": "stream",
          "name": "stdout",
          "text": [
            "Num of columns: 5\n"
          ]
        }
      ]
    },
    {
      "cell_type": "code",
      "source": [
        "#number of columns in the data\n",
        "\n",
        "mean=df.mean()\n",
        "print(\"Mean of Data:\\n\",mean)\n",
        "mean =df.mean()\n",
        "print(\"Mean of Data:\\n\",mean)"
      ],
      "metadata": {
        "colab": {
          "base_uri": "https://localhost:8080/"
        },
        "id": "3cgkAIHty8EA",
        "outputId": "2a1d5ab9-d519-40ef-a409-1d93f4e7865e"
      },
      "execution_count": 45,
      "outputs": [
        {
          "output_type": "stream",
          "name": "stdout",
          "text": [
            "Mean of Data:\n",
            " Store ID                  295.369048\n",
            "Store_Area               1482.250426\n",
            "Items_Available          1775.050086\n",
            "Daily_Customer_Count      785.807229\n",
            "Store_Sales             58223.865979\n",
            "dtype: float64\n",
            "Mean of Data:\n",
            " Store ID                  295.369048\n",
            "Store_Area               1482.250426\n",
            "Items_Available          1775.050086\n",
            "Daily_Customer_Count      785.807229\n",
            "Store_Sales             58223.865979\n",
            "dtype: float64\n"
          ]
        }
      ]
    },
    {
      "cell_type": "code",
      "source": [
        "#c) split a data\n",
        "category_var = 'Store_Area'\n",
        "Split_data =  df.groupby(category_var)"
      ],
      "metadata": {
        "id": "ElW4pnhCzfDd"
      },
      "execution_count": 47,
      "outputs": []
    },
    {
      "cell_type": "code",
      "source": [
        "#d)Indexing of data\n",
        "\n",
        "index_column = 'Store ID'\n",
        "indexed_data = df.set_index(index_column)\n"
      ],
      "metadata": {
        "colab": {
          "base_uri": "https://localhost:8080/",
          "height": 345
        },
        "id": "-odM94xE6DyF",
        "outputId": "ca865f54-7e3d-48b0-8ac2-412c74db631f"
      },
      "execution_count": 57,
      "outputs": [
        {
          "output_type": "error",
          "ename": "KeyError",
          "evalue": "ignored",
          "traceback": [
            "\u001b[0;31m---------------------------------------------------------------------------\u001b[0m",
            "\u001b[0;31mKeyError\u001b[0m                                  Traceback (most recent call last)",
            "\u001b[0;32m<ipython-input-57-4148dc39f26b>\u001b[0m in \u001b[0;36m<cell line: 4>\u001b[0;34m()\u001b[0m\n\u001b[1;32m      2\u001b[0m \u001b[0;34m\u001b[0m\u001b[0m\n\u001b[1;32m      3\u001b[0m \u001b[0mindex_column\u001b[0m \u001b[0;34m=\u001b[0m \u001b[0;34m'Store ID'\u001b[0m\u001b[0;34m\u001b[0m\u001b[0;34m\u001b[0m\u001b[0m\n\u001b[0;32m----> 4\u001b[0;31m \u001b[0mindexed_data\u001b[0m \u001b[0;34m=\u001b[0m \u001b[0mdf\u001b[0m\u001b[0;34m.\u001b[0m\u001b[0mset_index\u001b[0m\u001b[0;34m(\u001b[0m\u001b[0mindex_column\u001b[0m\u001b[0;34m)\u001b[0m\u001b[0;34m\u001b[0m\u001b[0;34m\u001b[0m\u001b[0m\n\u001b[0m",
            "\u001b[0;32m/usr/local/lib/python3.9/dist-packages/pandas/util/_decorators.py\u001b[0m in \u001b[0;36mwrapper\u001b[0;34m(*args, **kwargs)\u001b[0m\n\u001b[1;32m    329\u001b[0m                     \u001b[0mstacklevel\u001b[0m\u001b[0;34m=\u001b[0m\u001b[0mfind_stack_level\u001b[0m\u001b[0;34m(\u001b[0m\u001b[0;34m)\u001b[0m\u001b[0;34m,\u001b[0m\u001b[0;34m\u001b[0m\u001b[0;34m\u001b[0m\u001b[0m\n\u001b[1;32m    330\u001b[0m                 )\n\u001b[0;32m--> 331\u001b[0;31m             \u001b[0;32mreturn\u001b[0m \u001b[0mfunc\u001b[0m\u001b[0;34m(\u001b[0m\u001b[0;34m*\u001b[0m\u001b[0margs\u001b[0m\u001b[0;34m,\u001b[0m \u001b[0;34m**\u001b[0m\u001b[0mkwargs\u001b[0m\u001b[0;34m)\u001b[0m\u001b[0;34m\u001b[0m\u001b[0;34m\u001b[0m\u001b[0m\n\u001b[0m\u001b[1;32m    332\u001b[0m \u001b[0;34m\u001b[0m\u001b[0m\n\u001b[1;32m    333\u001b[0m         \u001b[0;31m# error: \"Callable[[VarArg(Any), KwArg(Any)], Any]\" has no\u001b[0m\u001b[0;34m\u001b[0m\u001b[0;34m\u001b[0m\u001b[0m\n",
            "\u001b[0;32m/usr/local/lib/python3.9/dist-packages/pandas/core/frame.py\u001b[0m in \u001b[0;36mset_index\u001b[0;34m(self, keys, drop, append, inplace, verify_integrity)\u001b[0m\n\u001b[1;32m   6010\u001b[0m \u001b[0;34m\u001b[0m\u001b[0m\n\u001b[1;32m   6011\u001b[0m         \u001b[0;32mif\u001b[0m \u001b[0mmissing\u001b[0m\u001b[0;34m:\u001b[0m\u001b[0;34m\u001b[0m\u001b[0;34m\u001b[0m\u001b[0m\n\u001b[0;32m-> 6012\u001b[0;31m             \u001b[0;32mraise\u001b[0m \u001b[0mKeyError\u001b[0m\u001b[0;34m(\u001b[0m\u001b[0;34mf\"None of {missing} are in the columns\"\u001b[0m\u001b[0;34m)\u001b[0m\u001b[0;34m\u001b[0m\u001b[0;34m\u001b[0m\u001b[0m\n\u001b[0m\u001b[1;32m   6013\u001b[0m \u001b[0;34m\u001b[0m\u001b[0m\n\u001b[1;32m   6014\u001b[0m         \u001b[0;32mif\u001b[0m \u001b[0minplace\u001b[0m\u001b[0;34m:\u001b[0m\u001b[0;34m\u001b[0m\u001b[0;34m\u001b[0m\u001b[0m\n",
            "\u001b[0;31mKeyError\u001b[0m: \"None of ['Store ID'] are in the columns\""
          ]
        }
      ]
    },
    {
      "cell_type": "code",
      "source": [
        "#e) Display top 10 rows of data\n",
        "\n",
        "top_rows = df.head(10)\n",
        "print('10 rows :\\n',top_rows)"
      ],
      "metadata": {
        "colab": {
          "base_uri": "https://localhost:8080/"
        },
        "id": "OnJA-Yb06ZPc",
        "outputId": "cc1f7948-ce50-4872-e9c3-49fccf7fba0f"
      },
      "execution_count": 53,
      "outputs": [
        {
          "output_type": "stream",
          "name": "stdout",
          "text": [
            "10 rows :\n",
            "    Store ID   Store_Area  Items_Available  Daily_Customer_Count  Store_Sales\n",
            "0        1.0      1659.0           1961.0                 530.0      66490.0\n",
            "1        2.0      1461.0           1752.0                 210.0      39820.0\n",
            "2        3.0      1340.0           1609.0                 720.0      54010.0\n",
            "3        4.0      1451.0           1748.0                 620.0      53730.0\n",
            "4        5.0      1770.0           2111.0                 450.0      46620.0\n",
            "5        6.0      1442.0           1733.0                 760.0      45260.0\n",
            "6        7.0      1542.0           1858.0                1030.0      72240.0\n",
            "7        8.0      1261.0           1507.0                1020.0      37720.0\n",
            "8        9.0      1090.0           1321.0                 680.0      46310.0\n",
            "9       10.0      1030.0           1235.0                1130.0      44150.0\n"
          ]
        }
      ]
    }
  ]
}